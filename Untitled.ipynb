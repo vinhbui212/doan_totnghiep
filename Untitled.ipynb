{
 "cells": [
  {
   "cell_type": "code",
   "execution_count": 4,
   "id": "eedb1b0c-7a89-464a-940a-9dfeee73c544",
   "metadata": {},
   "outputs": [
    {
     "name": "stdout",
     "output_type": "stream",
     "text": [
      "Recommendations for User 3: ['Nilaveli Beach', 'Koneswaram Temple', 'Passikudah Beach', 'Marble Beach', 'Lipton\\x92s Seat']\n"
     ]
    }
   ],
   "source": [
    "import pandas as pd\n",
    "from sklearn.metrics.pairwise import cosine_similarity\n",
    "\n",
    "# Load the dataset\n",
    "file_path = 'Reviews.csv'  # Thay đổi đường dẫn này nếu cần\n",
    "\n",
    "data = pd.read_csv(file_path, encoding='ISO-8859-1')\n",
    "\n",
    "# Filter the necessary columns for Collaborative Filtering\n",
    "cf_data = data[['User_ID', 'Location_Name', 'Rating']]\n",
    "\n",
    "# Pivot the table to create a User x Location matrix\n",
    "user_location_matrix = cf_data.pivot_table(\n",
    "    index='User_ID',\n",
    "    columns='Location_Name',\n",
    "    values='Rating'\n",
    ")\n",
    "\n",
    "# Fill missing values with 0\n",
    "user_location_matrix_filled = user_location_matrix.fillna(0)\n",
    "\n",
    "# Compute cosine similarity between users\n",
    "user_similarity = cosine_similarity(user_location_matrix_filled)\n",
    "\n",
    "# Convert similarity to a DataFrame for easier manipulation\n",
    "user_similarity_df = pd.DataFrame(\n",
    "    user_similarity,\n",
    "    index=user_location_matrix.index,\n",
    "    columns=user_location_matrix.index\n",
    ")\n",
    "\n",
    "# Function to get recommendations for a user\n",
    "def recommend_tours(user_id, top_n=5):\n",
    "    if user_id not in user_similarity_df.index:\n",
    "        return f\"User {user_id} not found in the dataset.\"\n",
    "\n",
    "    # Get similarity scores for the given user\n",
    "    similar_users = user_similarity_df[user_id].sort_values(ascending=False)\n",
    "\n",
    "    # Collect all tours rated by similar users\n",
    "    similar_users_ids = similar_users.index[1:]  # Exclude the user itself\n",
    "    recommended_tours = {}\n",
    "\n",
    "    for similar_user in similar_users_ids:\n",
    "        user_ratings = user_location_matrix.loc[similar_user]\n",
    "        unrated_tours = user_ratings[user_location_matrix.loc[user_id].isna()]\n",
    "\n",
    "        for tour, rating in unrated_tours.items():\n",
    "            if pd.notna(rating):\n",
    "                if tour not in recommended_tours:\n",
    "                    recommended_tours[tour] = 0\n",
    "                recommended_tours[tour] += rating * similar_users[similar_user]\n",
    "\n",
    "    # Sort recommendations by score\n",
    "    sorted_recommendations = sorted(recommended_tours.items(), key=lambda x: x[1], reverse=True)\n",
    "\n",
    "    return [tour for tour, _ in sorted_recommendations[:top_n]]\n",
    "\n",
    "# Example usage\n",
    "user_id_example = 'User 3'  # Replace with a valid user ID from your dataset\n",
    "recommendations = recommend_tours(user_id_example)\n",
    "print(f\"Recommendations for {user_id_example}: {recommendations}\")\n"
   ]
  },
  {
   "cell_type": "code",
   "execution_count": null,
   "id": "301da5dd-b2a0-4406-9776-09d9000a016d",
   "metadata": {},
   "outputs": [],
   "source": []
  }
 ],
 "metadata": {
  "kernelspec": {
   "display_name": "Python 3 (ipykernel)",
   "language": "python",
   "name": "python3"
  },
  "language_info": {
   "codemirror_mode": {
    "name": "ipython",
    "version": 3
   },
   "file_extension": ".py",
   "mimetype": "text/x-python",
   "name": "python",
   "nbconvert_exporter": "python",
   "pygments_lexer": "ipython3",
   "version": "3.12.1"
  }
 },
 "nbformat": 4,
 "nbformat_minor": 5
}
