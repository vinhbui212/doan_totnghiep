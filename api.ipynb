{
 "cells": [
  {
   "cell_type": "code",
   "execution_count": 2,
   "id": "11586798-b9f7-43da-8d93-4b7255c44cea",
   "metadata": {},
   "outputs": [
    {
     "name": "stdout",
     "output_type": "stream",
     "text": [
      " * Serving Flask app '__main__'\n",
      " * Debug mode: on\n"
     ]
    },
    {
     "name": "stderr",
     "output_type": "stream",
     "text": [
      "WARNING: This is a development server. Do not use it in a production deployment. Use a production WSGI server instead.\n",
      " * Running on http://127.0.0.1:5000\n",
      "Press CTRL+C to quit\n",
      " * Restarting with stat\n"
     ]
    },
    {
     "ename": "SystemExit",
     "evalue": "1",
     "output_type": "error",
     "traceback": [
      "An exception has occurred, use %tb to see the full traceback.\n",
      "\u001b[1;31mSystemExit\u001b[0m\u001b[1;31m:\u001b[0m 1\n"
     ]
    },
    {
     "name": "stderr",
     "output_type": "stream",
     "text": [
      "C:\\Users\\THINKPAD\\AppData\\Local\\Programs\\Python\\Python312\\Lib\\site-packages\\IPython\\core\\interactiveshell.py:3585: UserWarning: To exit: use 'exit', 'quit', or Ctrl-D.\n",
      "  warn(\"To exit: use 'exit', 'quit', or Ctrl-D.\", stacklevel=1)\n"
     ]
    }
   ],
   "source": [
    "from flask import Flask, request, jsonify\n",
    "import pandas as pd\n",
    "from sklearn.metrics.pairwise import cosine_similarity\n",
    "\n",
    "# Khởi tạo ứng dụng Flask\n",
    "app = Flask(__name__)\n",
    "\n",
    "# Tải dữ liệu (giả sử đã được lưu sẵn trên máy chủ)\n",
    "data = pd.read_csv('Reviews.csv', encoding='ISO-8859-1')\n",
    "\n",
    "# Chuẩn bị ma trận đánh giá User x Location\n",
    "cf_data = data[['User_ID', 'Location_Name', 'Rating']]\n",
    "user_location_matrix = cf_data.pivot_table(\n",
    "    index='User_ID',\n",
    "    columns='Location_Name',\n",
    "    values='Rating'\n",
    ")\n",
    "user_location_matrix_filled = user_location_matrix.fillna(0)\n",
    "\n",
    "# Tính toán sự tương đồng giữa người dùng\n",
    "user_similarity = cosine_similarity(user_location_matrix_filled)\n",
    "user_similarity_df = pd.DataFrame(\n",
    "    user_similarity,\n",
    "    index=user_location_matrix.index,\n",
    "    columns=user_location_matrix.index\n",
    ")\n",
    "\n",
    "@app.route('/recommend', methods=['POST'])\n",
    "def recommend():\n",
    "    \"\"\"\n",
    "    API nhận User_ID và trả về danh sách các địa điểm được gợi ý.\n",
    "    \"\"\"\n",
    "    user_id = request.json.get('User_ID')\n",
    "    num_recommendations = request.json.get('num_recommendations', 5)\n",
    "\n",
    "    if user_id not in user_location_matrix.index:\n",
    "        return jsonify({'error': 'User_ID not found in the dataset'}), 404\n",
    "\n",
    "    # Lấy danh sách người dùng tương tự\n",
    "    similar_users = user_similarity_df[user_id].sort_values(ascending=False)\n",
    "    \n",
    "    # Tính toán điểm dự đoán cho các địa điểm\n",
    "    user_ratings = user_location_matrix_filled.loc[user_id]\n",
    "    weighted_ratings = pd.Series(0, index=user_ratings.index)\n",
    "    similarity_sum = 0\n",
    "\n",
    "    for similar_user, similarity_score in similar_users.items():\n",
    "        if similar_user != user_id:\n",
    "            similarity_sum += similarity_score\n",
    "            weighted_ratings += user_location_matrix_filled.loc[similar_user] * similarity_score\n",
    "\n",
    "    # Chuẩn hóa điểm dự đoán\n",
    "    predicted_ratings = weighted_ratings / similarity_sum\n",
    "\n",
    "    # Gợi ý các địa điểm chưa được đánh giá\n",
    "    recommendations = predicted_ratings[user_ratings == 0].sort_values(ascending=False).head(num_recommendations)\n",
    "\n",
    "    return jsonify({\n",
    "        'User_ID': user_id,\n",
    "        'Recommendations': recommendations.index.tolist(),\n",
    "        'Predicted_Ratings': recommendations.values.tolist()\n",
    "    })\n",
    "\n",
    "if __name__ == '__main__':\n",
    "    app.run(debug=True)"
   ]
  },
  {
   "cell_type": "code",
   "execution_count": null,
   "id": "55e80a4b-a1df-4d14-b2a6-f71e99b7cb17",
   "metadata": {},
   "outputs": [],
   "source": []
  },
  {
   "cell_type": "code",
   "execution_count": null,
   "id": "e4f77310-10ba-4a77-b235-d3483a6d41d4",
   "metadata": {},
   "outputs": [],
   "source": []
  }
 ],
 "metadata": {
  "kernelspec": {
   "display_name": "Python 3 (ipykernel)",
   "language": "python",
   "name": "python3"
  },
  "language_info": {
   "codemirror_mode": {
    "name": "ipython",
    "version": 3
   },
   "file_extension": ".py",
   "mimetype": "text/x-python",
   "name": "python",
   "nbconvert_exporter": "python",
   "pygments_lexer": "ipython3",
   "version": "3.12.1"
  }
 },
 "nbformat": 4,
 "nbformat_minor": 5
}
